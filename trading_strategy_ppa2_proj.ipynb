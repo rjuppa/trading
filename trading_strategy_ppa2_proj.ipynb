{
 "cells": [
  {
   "cell_type": "code",
   "execution_count": 2,
   "metadata": {},
   "outputs": [],
   "source": [
    "import json\n",
    "import requests\n",
    "import decimal\n",
    "import numpy as np\n",
    "import pandas as pd\n",
    "import matplotlib\n",
    "import matplotlib.pyplot as plt\n",
    "from matplotlib.collections import LineCollection\n",
    "from matplotlib.colors import ListedColormap, BoundaryNorm\n",
    "from datetime import datetime, timedelta\n",
    "import matplotlib.dates as mdates\n",
    "\n",
    "global money  # usd\n",
    "global bitcoin\n",
    "global bitcoin_buy_price\n",
    "\n",
    "def read_data(dt_from, count=2000, from_symbol='BTC', to_symbol='USD', exchange='Poloniex'):\n",
    "    \"\"\" Load dataset from internet \"\"\"\n",
    "    ts_now = dt_from.timestamp()\n",
    "    qs = 'fsym={}&tsym={}&toTs={}&e={}&limit={}'.format(from_symbol, to_symbol,\n",
    "                                                        int(ts_now), exchange, count)\n",
    "    if count <= 2000:\n",
    "        url = 'https://min-api.cryptocompare.com/data/histohour?' + qs\n",
    "    else:\n",
    "        url = 'https://min-api.cryptocompare.com/data/histominute?' + qs\n",
    "    response = requests.get(url)\n",
    "    data = json.loads(response.content)['Data']\n",
    "    df = pd.DataFrame(data)\n",
    "    df.index = df.time.map(lambda x: datetime.fromtimestamp(int(x)))\n",
    "    df['balance'] = json.dumps({'usd': 0.0, 'btc': 0.0})\n",
    "    print('Starts with:')\n",
    "    print('money = 5000 USD')\n",
    "    print('Coin = 0 BTC)\n",
    "    print('DateTime          ===  S    ---        USD   ---      Coin    Price in USD')\n",
    "    plt.show()\n",
    "    return df\n"
   ]
  },
  {
   "cell_type": "code",
   "execution_count": 3,
   "metadata": {
    "collapsed": true
   },
   "outputs": [],
   "source": [
    "def get_presignal(row):\n",
    "    \"\"\" \n",
    "    Detects if there is a change in trend \n",
    "    For a change we need 2 same sequent signals\n",
    "    \"\"\"\n",
    "    if row.color > 1 and row.color_shift > 1 and row.color_shift2 < 1 and row.color_shift3 < 1:\n",
    "        # 2 : 2 : 0|-2, : 0|-2\n",
    "        return 1    # turn up\n",
    "    if row.color < -1 and row.color_shift < -1 and row.color_shift2 > -1 and row.color_shift3 > -1:\n",
    "        # -2 : -2 : 0|2 : 0|2\n",
    "        return -1  # turn down\n",
    "    return 0\n"
   ]
  },
  {
   "cell_type": "code",
   "execution_count": 4,
   "metadata": {
    "collapsed": true
   },
   "outputs": [],
   "source": [
    "def get_balance(row):\n",
    "    \"\"\" Executes a trade upon signal \"\"\"\n",
    "    global money\n",
    "    global bitcoin\n",
    "    if row.signal == 1:\n",
    "        bitcoin = money / row.close\n",
    "        money = 0\n",
    "    if row.signal == -1:\n",
    "        money = bitcoin * row.close\n",
    "        bitcoin = 0\n",
    "    return json.dumps({'usd': money, 'btc': bitcoin})\n"
   ]
  },
  {
   "cell_type": "code",
   "execution_count": 5,
   "metadata": {
    "collapsed": true
   },
   "outputs": [],
   "source": [
    "def get_signal(row):\n",
    "    \"\"\" Processes pre-signals and raise signals \"\"\"\n",
    "    global money\n",
    "    global bitcoin\n",
    "    global bitcoin_buy_price\n",
    "\n",
    "    # BUY\n",
    "    if money > 0: # have money\n",
    "        if row.close < row.buy_line:\n",
    "            # if price is low under EMA100\n",
    "\n",
    "            if row.pre_signal == 1:\n",
    "                # trend is UP (pre_signal == 1)\n",
    "                bitcoin = money / row.close\n",
    "                bitcoin_buy_price = row.close\n",
    "                money = 0\n",
    "                print('{:%Y-%m-%d %H:%M}  ===  {:+d}   ---   {:8.3f}   ---  {:8.3f}   BUY:({:8.3f})'.format(datetime.fromtimestamp(row.time),\n",
    "                                                                  row.pre_signal, money, bitcoin, row.close))\n",
    "                return 1\n",
    "\n",
    "    # SELL\n",
    "    if bitcoin > 0:\n",
    "        if row.close > row.ema100:\n",
    "            # high price\n",
    "            if row.pre_signal == -1:\n",
    "                # trend is DOWN (pre_signal == -1)\n",
    "                money = bitcoin * row.close\n",
    "                bitcoin = 0\n",
    "                print('{:%Y-%m-%d %H:%M}  ===  {:+d}   ---   {:8.3f}   ---  {:8.3f}   SELL({:8.3f})'.format(datetime.fromtimestamp(row.time),\n",
    "                                                                  row.pre_signal, money, bitcoin, row.close))\n",
    "                return -1\n",
    "        else:\n",
    "            # low price\n",
    "            if row.close < bitcoin_buy_price * 0.90:\n",
    "                # more then 10% loss - wrong buy\n",
    "                money = bitcoin * row.close\n",
    "                bitcoin = 0\n",
    "                print(\n",
    "                    '{:%Y-%m-%d %H:%M}  ===  {:+d}   ---   {:8.3f}   ---  {:8.3f}   SELL({:8.3f})'.format(\n",
    "                        datetime.fromtimestamp(row.time),\n",
    "                        row.pre_signal, money, bitcoin, row.close))\n",
    "                return -1\n",
    "    return 0"
   ]
  },
  {
   "cell_type": "code",
   "execution_count": 6,
   "metadata": {
    "collapsed": true
   },
   "outputs": [],
   "source": [
    "\n",
    "def calculate_signal(df):\n",
    "    \"\"\" \n",
    "    Calculating all helper data columns\n",
    "    Mostly based on exponential weighted mean and other rolling functions\n",
    "    EMA and difference \n",
    "    \"\"\" \n",
    "    period = 100\n",
    "\n",
    "    df['close_shift'] = df['close'].shift()\n",
    "    df['close_shift2'] = df['close'].shift(2)\n",
    "\n",
    "    df['ema100'] = df['close'].ewm(period).mean()\n",
    "    df['average'] = df['ema100'].mean()\n",
    "    df['ema5'] = df['close'].ewm(5).mean()\n",
    "    df['ema_buy'] = df['close'].rolling(window=50, center=True, min_periods=2).mean() * 0.98\n",
    "    df['add'] = (df['ema5'] - df['average']) * 0.18\n",
    "    df['buy_line'] = (df['ema100'] + df['ema_buy'])/2 + df['add'].abs()\n",
    "    df['mean20'] = df['close'].rolling(window=25, center=True, min_periods=2).mean()\n",
    "    df['mean20_shift'] = df['mean20'].shift()\n",
    "\n",
    "    df['diff2'] = (df['mean20'].diff(periods=1) + df['mean20']/100000)      # this is tolerance when derivation is near zero\n",
    "    df['diff'] = df['diff2'].rolling(window=10, center=True, min_periods=1).mean()\n",
    "\n",
    "    df['color'] = np.where(df['diff'] < 0, -2, np.where(df['diff'] > 0, 2, 0))\n",
    "    df['color_shift'] = np.where(df['diff'].shift() < 0, -2, np.where(df['diff'].shift() > 0, 2, 0))\n",
    "    df['color_shift2'] = np.where(df['diff'].shift(2) < 0, -2, np.where(df['diff'].shift(2) > 0, 2, 0))\n",
    "    df['color_shift3'] = np.where(df['diff'].shift(3) < 0, -2, np.where(df['diff'].shift(3) > 0, 2, 0))\n",
    "\n",
    "    df['pre_signal'] = df.apply(get_presignal, axis=1)\n",
    "    df['signal'] = df.apply(get_signal, axis=1)\n",
    "    df['balance'] = df.apply(get_balance, axis=1)\n",
    "    return df"
   ]
  },
  {
   "cell_type": "code",
   "execution_count": 7,
   "metadata": {
    "collapsed": true
   },
   "outputs": [],
   "source": [
    "\n",
    "def draw_graph(df, from_symbol='BTC', to_symbol='USD'):\n",
    "    fig, ax = plt.subplots()\n",
    "    ax.plot(df.index, df['close'], alpha=0.0)\n",
    "\n",
    "    # convert dates to numbers first\n",
    "    inxval = mdates.date2num(df.index.to_pydatetime())\n",
    "    points = np.array([inxval, df['close']]).T.reshape(-1, 1, 2)\n",
    "    segments = np.concatenate([points[:-1], points[1:]], axis=1)\n",
    "\n",
    "    # colorize line\n",
    "    cmap = ListedColormap(['r', 'b', 'g'])\n",
    "    norm = BoundaryNorm([-2, -1, 1, 2], cmap.N)\n",
    "    lc = LineCollection(segments, cmap=cmap, norm=norm, linewidth=1)\n",
    "    lc.set_array(market_data['color'])\n",
    "    ax.add_collection(lc)\n",
    "\n",
    "    # SELL Signal\n",
    "    below_threshold = df[df['signal'] == -1]\n",
    "    plt.scatter(below_threshold.index, below_threshold['close'], color='red')\n",
    "\n",
    "    # BUY Signal\n",
    "    below_threshold = df[df['signal'] == 1]\n",
    "    plt.scatter(below_threshold.index, below_threshold['close'], color='darkgreen')\n",
    "\n",
    "    # helper lines\n",
    "    # plt.plot(market_data.index, market_data['average'], color='gray')\n",
    "    # plt.plot(df.index, df['ema100'], color='pink')\n",
    "    # plt.plot(df.index, df['buy_line'], color='orange')\n",
    "\n",
    "    ax.xaxis.set_major_locator(mdates.MonthLocator())\n",
    "    ax.xaxis.set_minor_locator(mdates.DayLocator())\n",
    "    monthFmt = mdates.DateFormatter(\"%b\")\n",
    "    ax.xaxis.set_major_formatter(monthFmt)\n",
    "\n",
    "    plt.title('{}/{}'.format(from_symbol, to_symbol))\n",
    "    plt.grid(True)\n",
    "\n",
    "    xfmt = mdates.DateFormatter('%m-%d %H')\n",
    "    ax.xaxis.set_major_formatter(xfmt)\n",
    "    ax.xaxis.set_major_locator(mdates.DayLocator(interval=7))\n",
    "\n",
    "    h = df['close'].max() - df['close'].min()\n",
    "    y_min = df['close'].min() - h / 2\n",
    "    y_max = df['close'].max() + h / 2\n",
    "    plt.axis([df.index.min() + timedelta(hours=12), df.index.max(), y_min, y_max])\n",
    "    plt.setp(plt.gca().xaxis.get_majorticklabels(), 'rotation', 90)\n",
    "    plt.show()"
   ]
  },
  {
   "cell_type": "code",
   "execution_count": 10,
   "metadata": {},
   "outputs": [
    {
     "name": "stdout",
     "output_type": "stream",
     "text": [
      "DateTime          ===  S    ---        USD   ---      Coin    Price in USD\n",
      "2017-05-31 10:00  ===  +1   ---      0.000   ---     2.372   BUY:(2108.000)\n",
      "2017-06-02 00:00  ===  -1   ---   5437.856   ---     0.000   SELL(2292.600)\n",
      "2017-06-04 22:00  ===  +1   ---      0.000   ---     2.278   BUY:(2387.440)\n",
      "2017-06-07 01:00  ===  -1   ---   6482.315   ---     0.000   SELL(2846.000)\n",
      "2017-06-13 05:00  ===  +1   ---      0.000   ---     2.556   BUY:(2535.840)\n",
      "2017-06-15 07:00  ===  +0   ---   5682.148   ---     0.000   SELL(2222.820)\n",
      "2017-06-15 20:00  ===  +1   ---      0.000   ---     2.540   BUY:(2237.000)\n",
      "2017-06-18 05:00  ===  -1   ---   6677.350   ---     0.000   SELL(2628.800)\n",
      "2017-06-19 03:00  ===  +1   ---      0.000   ---     2.681   BUY:(2490.370)\n",
      "2017-06-21 08:00  ===  -1   ---   7188.426   ---     0.000   SELL(2680.980)\n",
      "2017-06-27 09:00  ===  +1   ---      0.000   ---     3.093   BUY:(2324.120)\n",
      "2017-07-04 14:00  ===  -1   ---   8049.694   ---     0.000   SELL(2602.580)\n",
      "2017-07-05 08:00  ===  +1   ---      0.000   ---     3.192   BUY:(2522.000)\n",
      "2017-07-06 13:00  ===  -1   ---   8187.771   ---     0.000   SELL(2565.260)\n",
      "2017-07-08 06:00  ===  +1   ---      0.000   ---     3.286   BUY:(2491.920)\n",
      "2017-07-11 08:00  ===  +0   ---   7189.172   ---     0.000   SELL(2188.000)\n",
      "2017-07-11 22:00  ===  +1   ---      0.000   ---     3.134   BUY:(2293.820)\n",
      "2017-07-15 09:00  ===  +0   ---   6390.529   ---     0.000   SELL(2039.000)\n",
      "2017-07-16 20:00  ===  +1   ---      0.000   ---     3.337   BUY:(1915.000)\n",
      "2017-07-19 07:00  ===  -1   ---   7825.845   ---     0.000   SELL(2345.110)\n",
      "2017-07-19 22:00  ===  +1   ---      0.000   ---     3.466   BUY:(2258.000)\n",
      "2017-07-21 11:00  ===  -1   ---   9506.772   ---     0.000   SELL(2743.000)\n",
      "2017-07-26 16:00  ===  +1   ---      0.000   ---     3.816   BUY:(2491.350)\n",
      "2017-07-28 23:00  ===  -1   ---   10619.683   ---     0.000   SELL(2783.000)\n",
      "2017-08-16 02:00  ===  +1   ---      0.000   ---     2.568   BUY:(4136.000)\n",
      "2017-08-17 11:00  ===  -1   ---   11425.916   ---     0.000   SELL(4450.000)\n",
      "2017-08-19 14:00  ===  +1   ---      0.000   ---     2.788   BUY:(4098.000)\n",
      "2017-08-20 15:00  ===  -1   ---   11368.285   ---     0.000   SELL(4077.330)\n"
     ]
    },
    {
     "data": {
      "image/png": "[encoded data removed]",
      "text/plain": [
       "<matplotlib.figure.Figure at 0x114448eb8>"
      ]
     },
     "metadata": {},
     "output_type": "display_data"
    }
   ],
   "source": [
    "money = 5000  # start money 5000USD\n",
    "bitcoin = 0\n",
    "bitcoin_buy_price = 0\n",
    "from_symbol = 'BTC'    # ['BTC', 'ETH', 'DASH', 'XMR', 'XRP', 'LTC', 'ETC', 'XEM', 'REP']\n",
    "\n",
    "#dt_from = datetime.strptime('2017-07-22 06:00', \"%Y-%m-%d %H:%M\")\n",
    "dt_from = datetime.utcnow()\n",
    "market_data = read_data(dt_from, 2000, from_symbol=from_symbol)\n",
    "market_data = calculate_signal(market_data)\n",
    "draw_graph(market_data)"
   ]
  },
  {
   "cell_type": "code",
   "execution_count": null,
   "metadata": {
    "collapsed": true
   },
   "outputs": [],
   "source": []
  }
 ],
 "metadata": {
  "kernelspec": {
   "display_name": "Python 3",
   "language": "python",
   "name": "python3"
  },
  "language_info": {
   "codemirror_mode": {
    "name": "ipython",
    "version": 3
   },
   "file_extension": ".py",
   "mimetype": "text/x-python",
   "name": "python",
   "nbconvert_exporter": "python",
   "pygments_lexer": "ipython3",
   "version": "3.6.0"
  }
 },
 "nbformat": 4,
 "nbformat_minor": 2
}
